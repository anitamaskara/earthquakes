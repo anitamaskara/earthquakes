{
 "cells": [
  {
   "cell_type": "code",
   "execution_count": 2,
   "metadata": {},
   "outputs": [],
   "source": [
    "import json\n",
    "from pprint import pprint\n",
    "import pandas as pd\n",
    "import urllib.request"
   ]
  },
  {
   "cell_type": "code",
   "execution_count": 3,
   "metadata": {},
   "outputs": [],
   "source": [
    "url_csv =\"https://earthquake.usgs.gov/fdsnws/event/1/query?format=csv&starttime=2016-10-01&endtime=2016-10-02\""
   ]
  },
  {
   "cell_type": "code",
   "execution_count": 4,
   "metadata": {},
   "outputs": [
    {
     "name": "stdout",
     "output_type": "stream",
     "text": [
      "                       time   latitude   longitude  depth   mag magType   nst  \\\n",
      "0  2016-10-01T23:52:08.370Z  38.860700 -118.895700   5.30  1.00      ml  12.0   \n",
      "1  2016-10-01T23:51:28.720Z  40.676333 -124.254833  27.40  2.52      md  25.0   \n",
      "2  2016-10-01T23:51:11.360Z  31.622500 -116.020000  10.19  2.57      ml  15.0   \n",
      "3  2016-10-01T23:47:59.890Z  36.698667 -121.328167   4.31  2.06      md  51.0   \n",
      "4  2016-10-01T23:40:33.600Z  33.140500 -115.614500   5.02  1.45      ml  23.0   \n",
      "\n",
      "      gap     dmin     rms    ...                      updated  \\\n",
      "0   76.91  0.37300  0.1264    ...     2018-07-02T18:04:42.076Z   \n",
      "1  167.00  0.04144  0.1000    ...     2017-02-11T02:13:40.610Z   \n",
      "2  184.00  0.30610  0.1500    ...     2016-10-03T20:21:28.100Z   \n",
      "3   38.00  0.05495  0.0700    ...     2017-02-11T02:13:27.620Z   \n",
      "4   93.00  0.03470  0.1900    ...     2016-10-03T19:48:14.786Z   \n",
      "\n",
      "                                 place        type horizontalError depthError  \\\n",
      "0        27km ESE of Yerington, Nevada  earthquake             NaN       2.70   \n",
      "1  7km SW of Humboldt Hill, California  earthquake            0.72       0.73   \n",
      "2      53km ESE of Maneadero, B.C., MX  earthquake            0.39       0.79   \n",
      "3    13km SSE of Ridgemark, California  earthquake            0.13       0.52   \n",
      "4             10km W of Calipatria, CA  earthquake            0.21       0.44   \n",
      "\n",
      "   magError  magNst    status  locationSource magSource  \n",
      "0       NaN     NaN  reviewed              nn        nn  \n",
      "1     0.182    30.0  reviewed              nc        nc  \n",
      "2     0.164    37.0  reviewed              ci        ci  \n",
      "3     0.241    58.0  reviewed              nc        nc  \n",
      "4     0.172    22.0  reviewed              ci        ci  \n",
      "\n",
      "[5 rows x 22 columns]\n"
     ]
    }
   ],
   "source": [
    "# No. of elements in the object generated using ‘features’ attribute of the API call\n",
    "data=pd.read_csv(url_csv)\n",
    "print (data.head())"
   ]
  },
  {
   "cell_type": "code",
   "execution_count": 5,
   "metadata": {},
   "outputs": [
    {
     "data": {
      "text/plain": [
       "Index(['time', 'latitude', 'longitude', 'depth', 'mag', 'magType', 'nst',\n",
       "       'gap', 'dmin', 'rms', 'net', 'id', 'updated', 'place', 'type',\n",
       "       'horizontalError', 'depthError', 'magError', 'magNst', 'status',\n",
       "       'locationSource', 'magSource'],\n",
       "      dtype='object')"
      ]
     },
     "execution_count": 5,
     "metadata": {},
     "output_type": "execute_result"
    }
   ],
   "source": [
    "cols = data.columns\n",
    "cols[0:]"
   ]
  },
  {
   "cell_type": "code",
   "execution_count": 6,
   "metadata": {},
   "outputs": [],
   "source": [
    "#Writing the dataframe to csv file\n",
    "df = pd.read_csv(url_csv, usecols=['latitude', 'longitude', 'place', 'mag'])\n",
    "df['title'] = 'M ' + df['mag'].map(str) + ' - ' + df['place']"
   ]
  },
  {
   "cell_type": "code",
   "execution_count": 20,
   "metadata": {},
   "outputs": [
    {
     "name": "stdout",
     "output_type": "stream",
     "text": [
      "<class 'pandas.core.frame.DataFrame'>\n",
      "RangeIndex: 309 entries, 0 to 308\n",
      "Data columns (total 5 columns):\n",
      "latitude     309 non-null float64\n",
      "longitude    309 non-null float64\n",
      "mag          309 non-null float64\n",
      "place        309 non-null object\n",
      "title        309 non-null object\n",
      "dtypes: float64(3), object(2)\n",
      "memory usage: 12.1+ KB\n"
     ]
    }
   ],
   "source": [
    "df.info()"
   ]
  },
  {
   "cell_type": "code",
   "execution_count": 19,
   "metadata": {},
   "outputs": [
    {
     "data": {
      "text/html": [
       "<div>\n",
       "<style scoped>\n",
       "    .dataframe tbody tr th:only-of-type {\n",
       "        vertical-align: middle;\n",
       "    }\n",
       "\n",
       "    .dataframe tbody tr th {\n",
       "        vertical-align: top;\n",
       "    }\n",
       "\n",
       "    .dataframe thead th {\n",
       "        text-align: right;\n",
       "    }\n",
       "</style>\n",
       "<table border=\"1\" class=\"dataframe\">\n",
       "  <thead>\n",
       "    <tr style=\"text-align: right;\">\n",
       "      <th></th>\n",
       "      <th>latitude</th>\n",
       "      <th>longitude</th>\n",
       "      <th>mag</th>\n",
       "      <th>place</th>\n",
       "      <th>title</th>\n",
       "    </tr>\n",
       "  </thead>\n",
       "  <tbody>\n",
       "    <tr>\n",
       "      <th>0</th>\n",
       "      <td>38.860700</td>\n",
       "      <td>-118.895700</td>\n",
       "      <td>1.00</td>\n",
       "      <td>27km ESE of Yerington, Nevada</td>\n",
       "      <td>M 1.0 - 27km ESE of Yerington, Nevada</td>\n",
       "    </tr>\n",
       "    <tr>\n",
       "      <th>1</th>\n",
       "      <td>40.676333</td>\n",
       "      <td>-124.254833</td>\n",
       "      <td>2.52</td>\n",
       "      <td>7km SW of Humboldt Hill, California</td>\n",
       "      <td>M 2.52 - 7km SW of Humboldt Hill, California</td>\n",
       "    </tr>\n",
       "    <tr>\n",
       "      <th>2</th>\n",
       "      <td>31.622500</td>\n",
       "      <td>-116.020000</td>\n",
       "      <td>2.57</td>\n",
       "      <td>53km ESE of Maneadero, B.C., MX</td>\n",
       "      <td>M 2.57 - 53km ESE of Maneadero, B.C., MX</td>\n",
       "    </tr>\n",
       "    <tr>\n",
       "      <th>3</th>\n",
       "      <td>36.698667</td>\n",
       "      <td>-121.328167</td>\n",
       "      <td>2.06</td>\n",
       "      <td>13km SSE of Ridgemark, California</td>\n",
       "      <td>M 2.06 - 13km SSE of Ridgemark, California</td>\n",
       "    </tr>\n",
       "    <tr>\n",
       "      <th>4</th>\n",
       "      <td>33.140500</td>\n",
       "      <td>-115.614500</td>\n",
       "      <td>1.45</td>\n",
       "      <td>10km W of Calipatria, CA</td>\n",
       "      <td>M 1.45 - 10km W of Calipatria, CA</td>\n",
       "    </tr>\n",
       "  </tbody>\n",
       "</table>\n",
       "</div>"
      ],
      "text/plain": [
       "    latitude   longitude   mag                                place  \\\n",
       "0  38.860700 -118.895700  1.00        27km ESE of Yerington, Nevada   \n",
       "1  40.676333 -124.254833  2.52  7km SW of Humboldt Hill, California   \n",
       "2  31.622500 -116.020000  2.57      53km ESE of Maneadero, B.C., MX   \n",
       "3  36.698667 -121.328167  2.06    13km SSE of Ridgemark, California   \n",
       "4  33.140500 -115.614500  1.45             10km W of Calipatria, CA   \n",
       "\n",
       "                                          title  \n",
       "0         M 1.0 - 27km ESE of Yerington, Nevada  \n",
       "1  M 2.52 - 7km SW of Humboldt Hill, California  \n",
       "2      M 2.57 - 53km ESE of Maneadero, B.C., MX  \n",
       "3    M 2.06 - 13km SSE of Ridgemark, California  \n",
       "4             M 1.45 - 10km W of Calipatria, CA  "
      ]
     },
     "execution_count": 19,
     "metadata": {},
     "output_type": "execute_result"
    }
   ],
   "source": [
    "df.head()"
   ]
  },
  {
   "cell_type": "code",
   "execution_count": 7,
   "metadata": {},
   "outputs": [],
   "source": [
    "#writing dataframe to csv file\n",
    "df.to_csv('earthquakes_data.csv', sep='\\t', encoding='utf-8')\n",
    "df.to_csv('earth')"
   ]
  },
  {
   "cell_type": "code",
   "execution_count": 8,
   "metadata": {},
   "outputs": [
    {
     "name": "stdout",
     "output_type": "stream",
     "text": [
      "         latitude   longitude         mag\n",
      "count  309.000000  309.000000  309.000000\n",
      "mean    39.929258 -109.941251    1.651780\n",
      "std     20.992373   69.253624    1.352043\n",
      "min    -58.771000 -179.944800   -0.800000\n",
      "25%     33.792833 -147.750500    0.800000\n",
      "50%     38.822334 -121.149333    1.180000\n",
      "75%     60.113100 -116.068833    2.030000\n",
      "max     68.495900  173.907600    5.600000\n"
     ]
    }
   ],
   "source": [
    "#How many rows will be there in the csv file after all the data is extracted \n",
    "print(df.describe())"
   ]
  },
  {
   "cell_type": "code",
   "execution_count": 9,
   "metadata": {},
   "outputs": [
    {
     "data": {
      "text/plain": [
       "80"
      ]
     },
     "execution_count": 9,
     "metadata": {},
     "output_type": "execute_result"
    }
   ],
   "source": [
    "#magnitude more than 2\n",
    "len(df[(df['mag']>2)])"
   ]
  },
  {
   "cell_type": "code",
   "execution_count": 10,
   "metadata": {},
   "outputs": [
    {
     "data": {
      "text/plain": [
       "66"
      ]
     },
     "execution_count": 10,
     "metadata": {},
     "output_type": "execute_result"
    }
   ],
   "source": [
    "#How many times the earthquake has occurred in at a place where the place description contains the string “California”\n",
    "df['place'].str.contains('California').value_counts()[True]"
   ]
  },
  {
   "cell_type": "code",
   "execution_count": 11,
   "metadata": {},
   "outputs": [
    {
     "data": {
      "text/plain": [
       "6"
      ]
     },
     "execution_count": 11,
     "metadata": {},
     "output_type": "execute_result"
    }
   ],
   "source": [
    "#magnitude more than 5\n",
    "len(df[(df['mag']>5)])"
   ]
  },
  {
   "cell_type": "code",
   "execution_count": 12,
   "metadata": {},
   "outputs": [
    {
     "data": {
      "text/html": [
       "<div>\n",
       "<style scoped>\n",
       "    .dataframe tbody tr th:only-of-type {\n",
       "        vertical-align: middle;\n",
       "    }\n",
       "\n",
       "    .dataframe tbody tr th {\n",
       "        vertical-align: top;\n",
       "    }\n",
       "\n",
       "    .dataframe thead th {\n",
       "        text-align: right;\n",
       "    }\n",
       "</style>\n",
       "<table border=\"1\" class=\"dataframe\">\n",
       "  <thead>\n",
       "    <tr style=\"text-align: right;\">\n",
       "      <th></th>\n",
       "      <th>latitude</th>\n",
       "      <th>longitude</th>\n",
       "      <th>mag</th>\n",
       "      <th>place</th>\n",
       "      <th>title</th>\n",
       "    </tr>\n",
       "  </thead>\n",
       "  <tbody>\n",
       "    <tr>\n",
       "      <th>56</th>\n",
       "      <td>-27.8057</td>\n",
       "      <td>-176.8154</td>\n",
       "      <td>5.1</td>\n",
       "      <td>193km NNE of Raoul Island, New Zealand</td>\n",
       "      <td>M 5.1 - 193km NNE of Raoul Island, New Zealand</td>\n",
       "    </tr>\n",
       "    <tr>\n",
       "      <th>122</th>\n",
       "      <td>40.7827</td>\n",
       "      <td>-29.3360</td>\n",
       "      <td>5.2</td>\n",
       "      <td>212km NE of Santa Cruz das Flores, Portugal</td>\n",
       "      <td>M 5.2 - 212km NE of Santa Cruz das Flores, Por...</td>\n",
       "    </tr>\n",
       "    <tr>\n",
       "      <th>203</th>\n",
       "      <td>34.9048</td>\n",
       "      <td>73.6822</td>\n",
       "      <td>5.4</td>\n",
       "      <td>41km NNW of Athmuqam, Pakistan</td>\n",
       "      <td>M 5.4 - 41km NNW of Athmuqam, Pakistan</td>\n",
       "    </tr>\n",
       "    <tr>\n",
       "      <th>259</th>\n",
       "      <td>-23.5705</td>\n",
       "      <td>-179.9448</td>\n",
       "      <td>5.3</td>\n",
       "      <td>South of the Fiji Islands</td>\n",
       "      <td>M 5.3 - South of the Fiji Islands</td>\n",
       "    </tr>\n",
       "    <tr>\n",
       "      <th>284</th>\n",
       "      <td>-13.1076</td>\n",
       "      <td>167.1984</td>\n",
       "      <td>5.1</td>\n",
       "      <td>93km NNW of Sola, Vanuatu</td>\n",
       "      <td>M 5.1 - 93km NNW of Sola, Vanuatu</td>\n",
       "    </tr>\n",
       "    <tr>\n",
       "      <th>298</th>\n",
       "      <td>-23.6806</td>\n",
       "      <td>-174.9261</td>\n",
       "      <td>5.6</td>\n",
       "      <td>259km S of `Ohonua, Tonga</td>\n",
       "      <td>M 5.6 - 259km S of `Ohonua, Tonga</td>\n",
       "    </tr>\n",
       "  </tbody>\n",
       "</table>\n",
       "</div>"
      ],
      "text/plain": [
       "     latitude  longitude  mag                                        place  \\\n",
       "56   -27.8057  -176.8154  5.1       193km NNE of Raoul Island, New Zealand   \n",
       "122   40.7827   -29.3360  5.2  212km NE of Santa Cruz das Flores, Portugal   \n",
       "203   34.9048    73.6822  5.4               41km NNW of Athmuqam, Pakistan   \n",
       "259  -23.5705  -179.9448  5.3                    South of the Fiji Islands   \n",
       "284  -13.1076   167.1984  5.1                    93km NNW of Sola, Vanuatu   \n",
       "298  -23.6806  -174.9261  5.6                    259km S of `Ohonua, Tonga   \n",
       "\n",
       "                                                 title  \n",
       "56      M 5.1 - 193km NNE of Raoul Island, New Zealand  \n",
       "122  M 5.2 - 212km NE of Santa Cruz das Flores, Por...  \n",
       "203             M 5.4 - 41km NNW of Athmuqam, Pakistan  \n",
       "259                  M 5.3 - South of the Fiji Islands  \n",
       "284                  M 5.1 - 93km NNW of Sola, Vanuatu  \n",
       "298                  M 5.6 - 259km S of `Ohonua, Tonga  "
      ]
     },
     "execution_count": 12,
     "metadata": {},
     "output_type": "execute_result"
    }
   ],
   "source": [
    "#to show records where magnitude was greater than 5\n",
    "df.loc[df['mag']>5]"
   ]
  }
 ],
 "metadata": {
  "kernelspec": {
   "display_name": "Python 3",
   "language": "python",
   "name": "python3"
  },
  "language_info": {
   "codemirror_mode": {
    "name": "ipython",
    "version": 3
   },
   "file_extension": ".py",
   "mimetype": "text/x-python",
   "name": "python",
   "nbconvert_exporter": "python",
   "pygments_lexer": "ipython3",
   "version": "3.6.4"
  }
 },
 "nbformat": 4,
 "nbformat_minor": 2
}
